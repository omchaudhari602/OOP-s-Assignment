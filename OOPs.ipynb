{
  "nbformat": 4,
  "nbformat_minor": 0,
  "metadata": {
    "colab": {
      "provenance": []
    },
    "kernelspec": {
      "name": "python3",
      "display_name": "Python 3"
    },
    "language_info": {
      "name": "python"
    }
  },
  "cells": [
    {
      "cell_type": "markdown",
      "source": [
        "**OOPS**\n",
        "\n",
        "---\n",
        "\n",
        "\n",
        "\n",
        "1. What is Object-Oriented Programming (OOP)?\n",
        "\n",
        "- OOP is a programming paradigm that organizes code using objects and classes. It emphasizes concepts like encapsulation, inheritance, polymorphism, and abstraction. This makes programs modular, reusable, and easier to manage.\n",
        "\n",
        "---\n",
        "---\n",
        "2. What is a class in OOP?\n",
        "\n",
        "- A class is a blueprint for creating objects. It defines attributes (variables) and methods (functions) that the created objects will have.\n",
        "---\n",
        "---\n",
        "\n",
        "3. What is an object in OOP?\n",
        "\n",
        "- An object is an instance of a class. It holds real data and can perform actions defined in the class.\n",
        "\n",
        "---\n",
        "---\n",
        "4. What is the difference between abstraction and encapsulation?\n",
        "\n",
        "- Abstraction hides implementation details and shows only essential features.\n",
        "\n",
        "- -Encapsulation hides internal object state and behavior using access modifiers.\n",
        "\n",
        "---\n",
        "---\n",
        "5. What are dunder methods in Python?\n",
        "\n",
        "- Dunder (double underscore) methods like __init__, __str__, etc., are special methods used to define object behavior in built-in operations.\n",
        "\n",
        "---\n",
        "---\n",
        "6. Explain the concept of inheritance in OOP.\n",
        "\n",
        "- Inheritance allows one class (child) to inherit attributes and methods from another (parent). It promotes code reuse and logical hierarchy.\n",
        "\n",
        "---\n",
        "---\n",
        "\n",
        "7. What is polymorphism in OOP?\n",
        "\n",
        "- Polymorphism means using the same interface for different data types or classes. It allows objects to behave differently based on their class.\n",
        "\n",
        "---\n",
        "---\n",
        "\n",
        "8. How is encapsulation achieved in Python?\n",
        "\n",
        "- Encapsulation is achieved using private variables (_var, __var) and methods to restrict direct access, and providing getter/setter methods.\n",
        "\n",
        "---\n",
        "---\n",
        "\n",
        "9. What is a constructor in Python?\n",
        "\n",
        "- A constructor is the __init__ method. It’s automatically called when an object is created and is used to initialize the object’s attributes.\n",
        "\n",
        "---\n",
        "---\n",
        "\n",
        "10. What are class and static methods in Python?\n",
        "\n",
        "- Class methods (@classmethod) take cls as parameter and affect the class state.\n",
        "\n",
        "- Static methods (@staticmethod) don’t take self or cls and are used as utility functions.\n",
        "\n",
        " ---\n",
        " ---\n",
        "11. What is method overloading in Python?\n",
        "\n",
        "- Python doesn't support traditional overloading. Instead, default arguments or *args/**kwargs are used to simulate it.\n",
        "\n",
        "---\n",
        "---\n",
        "12. What is method overriding in OOP?\n",
        "\n",
        "- Overriding occurs when a subclass defines a method with the same name as in the parent class, replacing its behavior.\n",
        "\n",
        "---\n",
        "---\n",
        "\n",
        "13. What is a property decorator in Python?\n",
        "\n",
        "- The @property decorator allows a method to be accessed like an attribute. It’s used for controlled access to private data.\n",
        "\n",
        "---\n",
        "---\n",
        "\n",
        "14. Why is polymorphism important in OOP?\n",
        "\n",
        "- It allows different classes to be treated as instances of the same class through a common interface, making code flexible and extensible.\n",
        "\n",
        "---\n",
        "---\n",
        "\n",
        "15. What is an abstract class in Python?\n",
        "\n",
        "- An abstract class cannot be instantiated. It uses the ABC module and contains abstract methods that must be implemented in subclasses.\n",
        "\n",
        "---\n",
        "---\n",
        "16. What are the advantages of OOP?\n",
        "\n",
        "- OOP promotes code reuse, modularity, and scalability. It makes complex programs easier to maintain and understand.\n",
        "\n",
        "---\n",
        "---\n",
        "17. What is the difference between a class variable and an instance variable?\n",
        "\n",
        "\n",
        "- Class variables are shared among all instances.\n",
        "\n",
        "- Instance variables are unique to each object.\n",
        "\n",
        " ---\n",
        " ---\n",
        "\n",
        "18. What is multiple inheritance in Python?\n",
        "\n",
        "- Multiple inheritance allows a class to inherit from more than one parent class. Python resolves conflicts using the MRO (Method Resolution Order).\n",
        "\n",
        "---\n",
        "---\n",
        "19. Explain the purpose of __str__ and __repr__ methods in Python.\n",
        "\n",
        "- __ str __ returns a user-friendly string of the object.\n",
        "\n",
        "-  __ repr __ returns an official string used for debugging.\n",
        "\n",
        "---\n",
        "---\n",
        "\n",
        "20. What is the significance of the super() function in Python?\n",
        "\n",
        "- super() is used to call methods from a parent class, especially in inheritance, to avoid hardcoding parent class names.\n",
        "\n",
        "---\n",
        "---\n",
        "\n",
        "21. What is the significance of the __del__ method in Python?\n",
        "\n",
        "- __ del __ is a destructor method called when an object is about to be destroyed. It's used to clean up resources.\n",
        "\n",
        "---\n",
        "---\n",
        "\n",
        "22. What is the difference between @staticmethod and @classmethod in Python?\n",
        "\n",
        "- @staticmethod does not access class or instance data.\n",
        "\n",
        "- @classmethod accesses class-level data using cls.\n",
        "\n",
        "---\n",
        "---\n",
        "\n",
        "23. How does polymorphism work in Python with inheritance?\n",
        "\n",
        "- In inheritance, child classes override parent methods, and objects are treated uniformly. This allows dynamic behavior at runtime.\n",
        "\n",
        "---\n",
        "---\n",
        "\n",
        "24. What is method chaining in Python OOP?\n",
        "\n",
        "- Method chaining is calling multiple methods on the same object in a single line using return self.\n",
        "\n",
        "---\n",
        "---\n",
        "25. What is the purpose of the __ call __ method in Python?\n",
        "\n",
        "- __ call __ allows an instance to be called like a function. It defines behavior when the object is \"called\".\n",
        "\n",
        "---\n",
        "---\n",
        "END...\n",
        "---\n",
        "---\n",
        "---\n",
        "\n",
        "\n"
      ],
      "metadata": {
        "id": "5QiRzWzr3u5G"
      }
    },
    {
      "cell_type": "markdown",
      "source": [
        "\n",
        "\n",
        "---\n",
        "\n",
        "\n",
        "\n",
        "---\n",
        "**Practical Questions**\n",
        "\n",
        "\n",
        "\n",
        "---\n",
        "---\n",
        "\n",
        "1. Create a parent class Animal with a method speak() that prints a generic message. Create a child class Dog\n",
        "that overrides the speak() method to print \"Bark!\".\n",
        "\n",
        "\n"
      ],
      "metadata": {
        "id": "BI7eXeFQ79h9"
      }
    },
    {
      "cell_type": "code",
      "source": [
        "class Animal:\n",
        "    def speak(self): print(\"Animal speaks\")\n",
        "class Dog(Animal):\n",
        "    def speak(self): print(\"Bark!\")\n"
      ],
      "metadata": {
        "id": "oPvjFXEF8JQ3"
      },
      "execution_count": 1,
      "outputs": []
    },
    {
      "cell_type": "code",
      "source": [
        "a1 = Animal()\n",
        "a1.speak()\n",
        "# Create a Dog object and call its speak method\n",
        "d1 = Dog()\n",
        "d1.speak()"
      ],
      "metadata": {
        "colab": {
          "base_uri": "https://localhost:8080/"
        },
        "id": "dIFNZPOt8K9c",
        "outputId": "db85c134-2424-46b0-fca7-99eb03880389"
      },
      "execution_count": 4,
      "outputs": [
        {
          "output_type": "stream",
          "name": "stdout",
          "text": [
            "Animal speaks\n",
            "Bark!\n"
          ]
        }
      ]
    },
    {
      "cell_type": "markdown",
      "source": [
        "\n",
        "\n",
        "---\n",
        "\n",
        "---\n",
        "\n",
        "2. Write a program to create an abstract class Shape with a method area(). Derive classes Circle and Rectangle\n",
        "from it and implement the area() method in both\n",
        "\n",
        "\n",
        "\n",
        "\n"
      ],
      "metadata": {
        "id": "ymzgkbTI8o-4"
      }
    },
    {
      "cell_type": "code",
      "source": [
        "from abc import ABC, abstractmethod\n",
        "class Shape(ABC):\n",
        "    @abstractmethod\n",
        "    def area(self): pass\n",
        "class Circle(Shape):\n",
        "    def area(self): return 3.14 * 5 * 5\n",
        "class Rectangle(Shape):\n",
        "    def area(self): return 10 * 5\n"
      ],
      "metadata": {
        "id": "pafJWf-28aDt"
      },
      "execution_count": 5,
      "outputs": []
    },
    {
      "cell_type": "code",
      "source": [
        "c1 = Circle()\n",
        "r1 = Rectangle()\n",
        "\n",
        "print(\"Area of Circle:\", c1.area())\n",
        "print(\"Area of Rectangle:\", r1.area())"
      ],
      "metadata": {
        "colab": {
          "base_uri": "https://localhost:8080/"
        },
        "id": "c0i06mzs80Bx",
        "outputId": "d0831ff9-b5d2-4546-d9f2-b905c6ba3426"
      },
      "execution_count": 7,
      "outputs": [
        {
          "output_type": "stream",
          "name": "stdout",
          "text": [
            "Area of Circle: 78.5\n",
            "Area of Rectangle: 50\n"
          ]
        }
      ]
    },
    {
      "cell_type": "markdown",
      "source": [
        "\n",
        "\n",
        "---\n",
        "\n",
        "\n",
        "\n",
        "---\n",
        "3. Implement a multi-level inheritance scenario where a class Vehicle has an attribute type. Derive a class Car\n",
        "and further derive a class ElectricCar that adds a battery attribute.\n",
        "\n"
      ],
      "metadata": {
        "id": "1kMjsIs09FEC"
      }
    },
    {
      "cell_type": "code",
      "source": [
        "class Vehicle:\n",
        "    def __init__(self, type): self.type = type\n",
        "class Car(Vehicle):\n",
        "    def __init__(self, type, brand): super().__init__(type); self.brand = brand\n",
        "class ElectricCar(Car):\n",
        "    def __init__(self, type, brand, battery): super().__init__(type, brand); self.battery = battery\n"
      ],
      "metadata": {
        "id": "OTT0A3ch87XA"
      },
      "execution_count": 8,
      "outputs": []
    },
    {
      "cell_type": "code",
      "source": [
        "v1 = Vehicle(\"Sedan\")\n",
        "print(f\"Vehicle type: {v1.type}\")\n",
        "\n",
        "c1 = Car(\"Sedan\", \"Toyota\")\n",
        "print(f\"Car type: {c1.type}, brand: {c1.brand}\")\n",
        "\n",
        "ec1 = ElectricCar(\"Sedan\", \"Tesla\", \"100 kWh\")\n",
        "print(f\"Electric Car type: {ec1.type}, brand: {ec1.brand}, battery: {ec1.battery}\")"
      ],
      "metadata": {
        "colab": {
          "base_uri": "https://localhost:8080/"
        },
        "id": "RLm-IfqK9bZI",
        "outputId": "31fa0b4e-a0dc-4836-c2a8-79bb96195ea4"
      },
      "execution_count": 10,
      "outputs": [
        {
          "output_type": "stream",
          "name": "stdout",
          "text": [
            "Vehicle type: Sedan\n",
            "Car type: Sedan, brand: Toyota\n",
            "Electric Car type: Sedan, brand: Tesla, battery: 100 kWh\n"
          ]
        }
      ]
    },
    {
      "cell_type": "markdown",
      "source": [
        "---\n",
        "---\n",
        "4. Demonstrate polymorphism by creating a base class Bird with a method fly(). Create two derived classes\n",
        "Sparrow and Penguin that override the fly() method.\n",
        "\n",
        "\n"
      ],
      "metadata": {
        "id": "O78hMOB297it"
      }
    },
    {
      "cell_type": "code",
      "source": [
        "class Bird:\n",
        "    def fly(self): print(\"Bird can fly\")\n",
        "class Sparrow(Bird):\n",
        "    def fly(self): print(\"Sparrow flies\")\n",
        "class Penguin(Bird):\n",
        "    def fly(self): print(\"Penguin cannot fly\")\n"
      ],
      "metadata": {
        "id": "PZJs-y3D9qEx"
      },
      "execution_count": 11,
      "outputs": []
    },
    {
      "cell_type": "code",
      "source": [
        "bb = Bird()\n",
        "bb.fly()\n",
        "s1 = Sparrow()\n",
        "s1.fly()\n",
        "p1 = Penguin()\n",
        "p1.fly()"
      ],
      "metadata": {
        "colab": {
          "base_uri": "https://localhost:8080/"
        },
        "id": "fmYxOZLp_8z7",
        "outputId": "1340fe4d-b454-46f3-fc0c-173eda7119c0"
      },
      "execution_count": 12,
      "outputs": [
        {
          "output_type": "stream",
          "name": "stdout",
          "text": [
            "Bird can fly\n",
            "Sparrow flies\n",
            "Penguin cannot fly\n"
          ]
        }
      ]
    },
    {
      "cell_type": "markdown",
      "source": [
        "\n",
        "\n",
        "---\n",
        "\n",
        "\n",
        "\n",
        "---\n",
        "5. Write a program to demonstrate encapsulation by creating a class BankAccount with private attributes\n",
        "balance and methods to deposit, withdraw, and check balance.\n"
      ],
      "metadata": {
        "id": "GlrmTufPAOgl"
      }
    },
    {
      "cell_type": "code",
      "source": [
        "class BankAccount:\n",
        "    def __init__(self): self.__balance = 0\n",
        "    def deposit(self, amount): self.__balance += amount\n",
        "    def withdraw(self, amount): self.__balance -= amount\n",
        "    def check_balance(self): return self.__balance\n"
      ],
      "metadata": {
        "id": "BrmeBa_2AIJV"
      },
      "execution_count": 13,
      "outputs": []
    },
    {
      "cell_type": "code",
      "source": [
        "bk = BankAccount()\n",
        "bk.deposit(1000)\n",
        "bk.withdraw(500)\n",
        "print(\"Balance:\", bk.check_balance())"
      ],
      "metadata": {
        "colab": {
          "base_uri": "https://localhost:8080/"
        },
        "id": "qjgmHT6HARZ1",
        "outputId": "494b9c89-5ab6-4cd7-f318-e1616c2b5a9e"
      },
      "execution_count": 14,
      "outputs": [
        {
          "output_type": "stream",
          "name": "stdout",
          "text": [
            "Balance: 500\n"
          ]
        }
      ]
    },
    {
      "cell_type": "markdown",
      "source": [
        "---\n",
        "---\n",
        "6. Demonstrate runtime polymorphism using a method play() in a base class Instrument. Derive classes Guitar\n",
        "and Piano that implement their own version of play()."
      ],
      "metadata": {
        "id": "SS9lEPaoAjgY"
      }
    },
    {
      "cell_type": "code",
      "source": [
        "class Instrument:\n",
        "    def play(self): print(\"Instrument playing\")\n",
        "class Guitar(Instrument):\n",
        "    def play(self): print(\"Guitar strumming\")\n",
        "class Piano(Instrument):\n",
        "    def play(self): print(\"Piano playing\")\n"
      ],
      "metadata": {
        "id": "GgzeawALAWOu"
      },
      "execution_count": 15,
      "outputs": []
    },
    {
      "cell_type": "code",
      "source": [
        "i = Instrument()\n",
        "i.play()\n",
        "g = Guitar()\n",
        "g.play()\n",
        "p = Piano()\n",
        "p.play()"
      ],
      "metadata": {
        "colab": {
          "base_uri": "https://localhost:8080/"
        },
        "id": "yhBFkB4nAqP_",
        "outputId": "6faf9d28-e561-4985-e7e8-866db66bf89d"
      },
      "execution_count": 16,
      "outputs": [
        {
          "output_type": "stream",
          "name": "stdout",
          "text": [
            "Instrument playing\n",
            "Guitar strumming\n",
            "Piano playing\n"
          ]
        }
      ]
    },
    {
      "cell_type": "markdown",
      "source": [
        "\n",
        "\n",
        "\n",
        "---\n",
        "\n",
        "\n",
        "---\n",
        "\n",
        "7. Create a class MathOperations with a class method add_numbers() to add two numbers and a static\n",
        "method subtract_numbers() to subtract two numbers."
      ],
      "metadata": {
        "id": "q3Vc46ZEAk_5"
      }
    },
    {
      "cell_type": "code",
      "source": [
        "class MathOperations:\n",
        "    @classmethod\n",
        "    def add_numbers(cls, a, b): return a + b\n",
        "    @staticmethod\n",
        "    def subtract_numbers(a, b): return a - b\n"
      ],
      "metadata": {
        "id": "qUrwk9NEA3Gb"
      },
      "execution_count": 10,
      "outputs": []
    },
    {
      "cell_type": "code",
      "source": [
        "EX = MathOperations()\n",
        "print(\"Addition:\", EX.add_numbers(10, 5))\n",
        "print(\"Subtraction:\", EX.subtract_numbers(10, 5))"
      ],
      "metadata": {
        "colab": {
          "base_uri": "https://localhost:8080/"
        },
        "id": "0-_UO8mEDFSM",
        "outputId": "7111d73c-b446-4f57-f520-018a3e40da15"
      },
      "execution_count": 11,
      "outputs": [
        {
          "output_type": "stream",
          "name": "stdout",
          "text": [
            "Addition: 15\n",
            "Subtraction: 5\n"
          ]
        }
      ]
    },
    {
      "cell_type": "markdown",
      "source": [],
      "metadata": {
        "id": "J2faC94GDATz"
      }
    },
    {
      "cell_type": "markdown",
      "source": [
        "---\n",
        "---\n",
        "8. Implement a class Person with a class method to count the total number of persons created."
      ],
      "metadata": {
        "id": "WT7Dq-4yB9Aa"
      }
    },
    {
      "cell_type": "code",
      "source": [
        "class Person:\n",
        "    count = 0\n",
        "    def __init__(self): Person.count += 1\n",
        "    @classmethod\n",
        "    def total(cls): return cls.count\n"
      ],
      "metadata": {
        "id": "CyxUfd5-BFV-"
      },
      "execution_count": 12,
      "outputs": []
    },
    {
      "cell_type": "code",
      "source": [
        "p = Person()\n",
        "print(\"Total persons:\", Person.total())"
      ],
      "metadata": {
        "colab": {
          "base_uri": "https://localhost:8080/"
        },
        "id": "mEbnUaBnCKoP",
        "outputId": "3343a62e-a4d2-4209-e01a-4fb4b47d2ae3"
      },
      "execution_count": 13,
      "outputs": [
        {
          "output_type": "stream",
          "name": "stdout",
          "text": [
            "Total persons: 1\n"
          ]
        }
      ]
    },
    {
      "cell_type": "markdown",
      "source": [
        "\n",
        "\n",
        "---\n",
        "\n",
        "\n",
        "\n",
        "---\n",
        "9. Write a class Fraction with attributes numerator and denominator. Override the str method to display the\n",
        "fraction as \"numerator/denominator\".\n",
        "\n"
      ],
      "metadata": {
        "id": "4hgMovxTDUYN"
      }
    },
    {
      "cell_type": "code",
      "source": [
        "class Fraction:\n",
        "    def __init__(self, numerator, denominator):\n",
        "        self.numerator = numerator\n",
        "        self.denominator = denominator\n",
        "    def __str__(self): return f\"{self.numerator}/{self.denominator}\""
      ],
      "metadata": {
        "id": "Ck5MIzssCQh5"
      },
      "execution_count": 14,
      "outputs": []
    },
    {
      "cell_type": "code",
      "source": [
        "f = Fraction(3, 99)\n",
        "print(f)"
      ],
      "metadata": {
        "colab": {
          "base_uri": "https://localhost:8080/"
        },
        "id": "Z0VJ-5DXDezG",
        "outputId": "685846d2-603f-49e7-a676-6cfac50f8165"
      },
      "execution_count": 16,
      "outputs": [
        {
          "output_type": "stream",
          "name": "stdout",
          "text": [
            "3/99\n"
          ]
        }
      ]
    },
    {
      "cell_type": "markdown",
      "source": [
        "---\n",
        "---\n",
        "10. Demonstrate operator overloading by creating a class Vector and overriding the add method to add two\n",
        "vectors."
      ],
      "metadata": {
        "id": "qZta0KBcDrsk"
      }
    },
    {
      "cell_type": "code",
      "source": [
        "class Vector:\n",
        "    def __init__(self, x, y): self.x = x; self.y = y\n",
        "    def __add__(self, other): return Vector(self.x + other.x, self.y + other.y)\n"
      ],
      "metadata": {
        "id": "1ky_AmvODg5C"
      },
      "execution_count": 17,
      "outputs": []
    },
    {
      "cell_type": "code",
      "source": [
        "v = Vector(1, 2)\n",
        "v2 = Vector(3, 4)\n",
        "print(v + v2)"
      ],
      "metadata": {
        "colab": {
          "base_uri": "https://localhost:8080/"
        },
        "id": "uw0rvRbDDxqq",
        "outputId": "ad2a7efd-44e4-4216-a0df-04060d860561"
      },
      "execution_count": 18,
      "outputs": [
        {
          "output_type": "stream",
          "name": "stdout",
          "text": [
            "<__main__.Vector object at 0x7eae333f2990>\n"
          ]
        }
      ]
    },
    {
      "cell_type": "markdown",
      "source": [
        "\n",
        "\n",
        "---\n",
        "\n",
        "\n",
        "\n",
        "---\n",
        "11. Create a class Person with attributes name and age. Add a method greet() that prints \"Hello, my name is\n",
        "{name} and I am {age} years old.\"\n",
        "\n"
      ],
      "metadata": {
        "id": "NYK0WDNPD4mz"
      }
    },
    {
      "cell_type": "code",
      "source": [
        "class Person:\n",
        "    def __init__(self, name, age):\n",
        "        self.name = name\n",
        "        self.age = age\n",
        "\n",
        "    def greet(self):\n",
        "        print(f\"Hello, my name is {self.name} and I am {self.age} years old.\")"
      ],
      "metadata": {
        "id": "3-fqFYNgD2vh"
      },
      "execution_count": 19,
      "outputs": []
    },
    {
      "cell_type": "code",
      "source": [
        "ppm = Person(\"om\", 20)\n",
        "ppm.greet()"
      ],
      "metadata": {
        "colab": {
          "base_uri": "https://localhost:8080/"
        },
        "id": "MUV-DsvLEBsj",
        "outputId": "c50f427d-27e1-4294-ec77-08dd01d09d24"
      },
      "execution_count": 21,
      "outputs": [
        {
          "output_type": "stream",
          "name": "stdout",
          "text": [
            "Hello, my name is om and I am 20 years old.\n"
          ]
        }
      ]
    },
    {
      "cell_type": "markdown",
      "source": [
        "---\n",
        "---\n",
        "12. Implement a class Student with attributes name and grades. Create a method average_grade() to compute\n",
        "the average of the grades."
      ],
      "metadata": {
        "id": "aYTBKnXvEIuu"
      }
    },
    {
      "cell_type": "code",
      "source": [
        "class Student:\n",
        "    def __init__(self, name, grades):\n",
        "        self.name = name\n",
        "        self.grades = grades\n",
        "\n",
        "    def average_grade(self):\n",
        "        return sum(self.grades) / len(self.grades)"
      ],
      "metadata": {
        "id": "iJTQEcLNEE9T"
      },
      "execution_count": 23,
      "outputs": []
    },
    {
      "cell_type": "code",
      "source": [
        "std = Student(\"om\", [10, 20, 30, 40])\n",
        "print(std.average_grade())"
      ],
      "metadata": {
        "colab": {
          "base_uri": "https://localhost:8080/"
        },
        "id": "zcRWTpqFEhvN",
        "outputId": "f5e500ec-263d-40fe-b852-411f48f07aa9"
      },
      "execution_count": 24,
      "outputs": [
        {
          "output_type": "stream",
          "name": "stdout",
          "text": [
            "25.0\n"
          ]
        }
      ]
    },
    {
      "cell_type": "markdown",
      "source": [
        "---\n",
        "---\n",
        "13. Create a class Rectangle with methods set_dimensions() to set the dimensions and area() to calculate the\n",
        "area"
      ],
      "metadata": {
        "id": "0uadDRnCEvRJ"
      }
    },
    {
      "cell_type": "code",
      "source": [
        "class Rectangle:\n",
        "    def __init__(self): self.length = 0; self.width = 0\n",
        "    def set_dimensions(self, length, width):\n",
        "        self.length = length\n",
        "        self.width = width"
      ],
      "metadata": {
        "id": "SGdGJnILEpJi"
      },
      "execution_count": 25,
      "outputs": []
    },
    {
      "cell_type": "code",
      "source": [
        "rect = Rectangle()\n",
        "rect.set_dimensions(10, 5)\n",
        "print(\"Area:\", rect.length * rect.width)"
      ],
      "metadata": {
        "colab": {
          "base_uri": "https://localhost:8080/"
        },
        "id": "jEMp3XSaE1Fz",
        "outputId": "9ac5006d-8fe5-4acf-d1f5-e1108407c5c4"
      },
      "execution_count": 26,
      "outputs": [
        {
          "output_type": "stream",
          "name": "stdout",
          "text": [
            "Area: 50\n"
          ]
        }
      ]
    },
    {
      "cell_type": "markdown",
      "source": [
        "---\n",
        "---\n",
        "14. Create a class Employee with a method calculate_salary() that computes the salary based on hours worked\n",
        "and hourly rate. Create a derived class Manager that adds a bonus to the salary."
      ],
      "metadata": {
        "id": "XEuQwssUE9PT"
      }
    },
    {
      "cell_type": "code",
      "source": [
        "class Employee:\n",
        "    def __init__(self, hours, rate): self.hours = hours; self.rate = rate\n",
        "    def calculate_salary(self): return self.hours * self.rate\n",
        "class Manager(Employee):\n",
        "    def calculate_salary(self): return super().calculate_salary() + 1000\n"
      ],
      "metadata": {
        "id": "BcRGi0mtE7Rx"
      },
      "execution_count": 27,
      "outputs": []
    },
    {
      "cell_type": "code",
      "source": [
        "emp = Employee(100, 10)\n",
        "print(\"Employee salary:\", emp.calculate_salary())\n",
        "mgr = Manager(100, 10)\n",
        "print(\"Manager salary:\", mgr.calculate_salary())"
      ],
      "metadata": {
        "colab": {
          "base_uri": "https://localhost:8080/"
        },
        "id": "6VN3hywkFNck",
        "outputId": "0ee7fc24-e674-4119-eb90-b57b92cf2054"
      },
      "execution_count": 28,
      "outputs": [
        {
          "output_type": "stream",
          "name": "stdout",
          "text": [
            "Employee salary: 1000\n",
            "Manager salary: 2000\n"
          ]
        }
      ]
    },
    {
      "cell_type": "markdown",
      "source": [
        "---\n",
        "---\n",
        "15. Create a class Product with attributes name, price, and quantity. Implement a method total_price() that\n",
        "calculates the total price of the product."
      ],
      "metadata": {
        "id": "b4FEaC7RFVPf"
      }
    },
    {
      "cell_type": "code",
      "source": [
        "class Product:\n",
        "    def __init__(self, name, price, quantity):\n",
        "        self.name = name\n",
        "        self.price = price\n",
        "        self.quantity = quantity\n",
        "\n",
        "    def total_price(self):\n",
        "        return self.price * self.quantity"
      ],
      "metadata": {
        "id": "G_VbGSJnFQMv"
      },
      "execution_count": 29,
      "outputs": []
    },
    {
      "cell_type": "code",
      "source": [
        "prod = Product(\"om\", 10, 20)\n",
        "print(prod.total_price())"
      ],
      "metadata": {
        "colab": {
          "base_uri": "https://localhost:8080/"
        },
        "id": "bY2nfTeeFfJJ",
        "outputId": "83a22791-7e3c-4a78-9678-c72c3ff75ccd"
      },
      "execution_count": 30,
      "outputs": [
        {
          "output_type": "stream",
          "name": "stdout",
          "text": [
            "200\n"
          ]
        }
      ]
    },
    {
      "cell_type": "markdown",
      "source": [
        "---\n",
        "---\n",
        "16. Create a class Animal with an abstract method sound(). Create two derived classes Cow and Sheep that\n",
        "implement the sound() method."
      ],
      "metadata": {
        "id": "8pr7UnT0Flg3"
      }
    },
    {
      "cell_type": "code",
      "source": [
        "from abc import ABC, abstractmethod\n",
        "\n",
        "class Animal(ABC):\n",
        "    @abstractmethod\n",
        "    def sound(self):\n",
        "        pass\n",
        "\n",
        "class Cow(Animal):\n",
        "    def sound(self):\n",
        "        print(\"Moo!\")\n",
        "\n",
        "class Sheep(Animal):\n",
        "    def sound(self):\n",
        "        print(\"Baa!\")\n"
      ],
      "metadata": {
        "id": "wKPjZWuSFhZm"
      },
      "execution_count": 35,
      "outputs": []
    },
    {
      "cell_type": "code",
      "source": [
        "c = Cow()\n",
        "s = Sheep()\n",
        "c.sound()\n",
        "s.sound()\n"
      ],
      "metadata": {
        "colab": {
          "base_uri": "https://localhost:8080/"
        },
        "id": "dkzNN8AiFrf8",
        "outputId": "6781316c-fa0a-4761-dd95-3095c6e5a993"
      },
      "execution_count": 37,
      "outputs": [
        {
          "output_type": "stream",
          "name": "stdout",
          "text": [
            "Moo!\n",
            "Baa!\n"
          ]
        }
      ]
    },
    {
      "cell_type": "markdown",
      "source": [
        "---\n",
        "---\n",
        "17. Create a class Book with attributes title, author, and year_published. Add a method get_book_info() that\n",
        "returns a formatted string with the book's details."
      ],
      "metadata": {
        "id": "4RmUC4RNGkzO"
      }
    },
    {
      "cell_type": "code",
      "source": [
        "class Book:\n",
        "    def __init__(self, title, author, year_published):\n",
        "        self.title = title\n",
        "        self.author = author\n",
        "        self.year_published = year_published\n",
        "\n",
        "    def get_book_info(self):\n",
        "        return f\"Title: {self.title}\\nAuthor: {self.author}\\nYear Published: {self.year_published}\""
      ],
      "metadata": {
        "id": "Iu92cITTF6-3"
      },
      "execution_count": 38,
      "outputs": []
    },
    {
      "cell_type": "code",
      "source": [
        "b = Book(\"THE Sky\", \"Om\", 2000)\n",
        "print(b.get_book_info())"
      ],
      "metadata": {
        "colab": {
          "base_uri": "https://localhost:8080/"
        },
        "id": "mWnRXZfYG2qk",
        "outputId": "d66254b6-5833-47d6-d19c-2f831b87495f"
      },
      "execution_count": 39,
      "outputs": [
        {
          "output_type": "stream",
          "name": "stdout",
          "text": [
            "Title: THE Sky\n",
            "Author: Om\n",
            "Year Published: 2000\n"
          ]
        }
      ]
    },
    {
      "cell_type": "markdown",
      "source": [
        "---\n",
        "---\n",
        "18. Create a class House with attributes address and price. Create a derived class Mansion that adds an\n",
        "attribute number_of_rooms"
      ],
      "metadata": {
        "id": "uWNrtmS6HCGu"
      }
    },
    {
      "cell_type": "code",
      "source": [
        "class House:\n",
        "    def __init__(self, address, price):\n",
        "        self.address = address\n",
        "        self.price = price\n",
        "\n",
        "class Mansion(House):\n",
        "    def __init__(self, address, price, number_of_rooms):\n",
        "        super().__init__(address, price)\n",
        "        self.number_of_rooms = number_of_rooms\n"
      ],
      "metadata": {
        "id": "nQ8GX6BLG-0V"
      },
      "execution_count": 43,
      "outputs": []
    },
    {
      "cell_type": "code",
      "source": [
        "m = Mansion(\"123 Luxury St\", 5000000, 10)\n",
        "print(\"Address:\", m.address)\n",
        "print(\"Price:\", m.price)\n",
        "print(\"Rooms:\", m.number_of_rooms)\n"
      ],
      "metadata": {
        "colab": {
          "base_uri": "https://localhost:8080/"
        },
        "id": "_Yo9Tm4gHHbH",
        "outputId": "71b74fd7-e0c4-461f-d8d5-eca7a95510e1"
      },
      "execution_count": 44,
      "outputs": [
        {
          "output_type": "stream",
          "name": "stdout",
          "text": [
            "Address: 123 Luxury St\n",
            "Price: 5000000\n",
            "Rooms: 10\n"
          ]
        }
      ]
    },
    {
      "cell_type": "markdown",
      "source": [
        "---\n",
        "---\n",
        "**End.....**\n",
        "\n",
        "---\n",
        "---"
      ],
      "metadata": {
        "id": "iQC8ZcXcHno4"
      }
    },
    {
      "cell_type": "code",
      "source": [],
      "metadata": {
        "id": "m5uUVHtwHUeW"
      },
      "execution_count": null,
      "outputs": []
    }
  ]
}